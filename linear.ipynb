{
  "nbformat": 4,
  "nbformat_minor": 0,
  "metadata": {
    "colab": {
      "name": "linear.ipynb",
      "provenance": [],
      "collapsed_sections": [],
      "authorship_tag": "ABX9TyOIpiPQpolgBfDGKb7IhhET",
      "include_colab_link": true
    },
    "kernelspec": {
      "name": "python3",
      "display_name": "Python 3"
    }
  },
  "cells": [
    {
      "cell_type": "markdown",
      "metadata": {
        "id": "view-in-github",
        "colab_type": "text"
      },
      "source": [
        "<a href=\"https://colab.research.google.com/github/Paresh-Kumar-Hansda/py/blob/master/linear.ipynb\" target=\"_parent\"><img src=\"https://colab.research.google.com/assets/colab-badge.svg\" alt=\"Open In Colab\"/></a>"
      ]
    },
    {
      "cell_type": "code",
      "metadata": {
        "id": "C8jpiAlHxN3P"
      },
      "source": [
        "import tensorflow as tf\n",
        "from tensorflow import keras"
      ],
      "execution_count": 2,
      "outputs": []
    },
    {
      "cell_type": "code",
      "metadata": {
        "id": "an4ZNJTdxfS1"
      },
      "source": [
        "import numpy as np"
      ],
      "execution_count": 3,
      "outputs": []
    },
    {
      "cell_type": "code",
      "metadata": {
        "id": "IOXqAVWvxmdx"
      },
      "source": [
        "x=np.array([1,2,3,4,5,6,7,8,9,10])\n",
        "y=np.array([8,14,20,26,32,38,44,50,56,62])"
      ],
      "execution_count": 4,
      "outputs": []
    },
    {
      "cell_type": "code",
      "metadata": {
        "id": "2RWggGgfyJZ4"
      },
      "source": [
        " \n",
        "model=keras.Sequential([keras.layers.Dense(units=1, input_shape=[1])])\n",
        "model.compile(optimizer=\"sgd\", loss=\"mean_squared_error\")"
      ],
      "execution_count": 6,
      "outputs": []
    },
    {
      "cell_type": "code",
      "metadata": {
        "colab": {
          "base_uri": "https://localhost:8080/"
        },
        "id": "jdLZ3jgWzx9a",
        "outputId": "9d80d249-6720-4bbb-9329-8780766ba341"
      },
      "source": [
        "model.fit(x,y,epochs=5)"
      ],
      "execution_count": 7,
      "outputs": [
        {
          "output_type": "stream",
          "text": [
            "Epoch 1/5\n",
            "1/1 [==============================] - 0s 405ms/step - loss: 1857.6195\n",
            "Epoch 2/5\n",
            "1/1 [==============================] - 0s 3ms/step - loss: 85.4421\n",
            "Epoch 3/5\n",
            "1/1 [==============================] - 0s 4ms/step - loss: 4.1303\n",
            "Epoch 4/5\n",
            "1/1 [==============================] - 0s 5ms/step - loss: 0.3978\n",
            "Epoch 5/5\n",
            "1/1 [==============================] - 0s 3ms/step - loss: 0.2248\n"
          ],
          "name": "stdout"
        },
        {
          "output_type": "execute_result",
          "data": {
            "text/plain": [
              "<tensorflow.python.keras.callbacks.History at 0x7efca04327b8>"
            ]
          },
          "metadata": {
            "tags": []
          },
          "execution_count": 7
        }
      ]
    },
    {
      "cell_type": "code",
      "metadata": {
        "colab": {
          "base_uri": "https://localhost:8080/"
        },
        "id": "dDBjnKZe0Aza",
        "outputId": "39aedb11-af4d-48dc-f1e7-a63c946c005c"
      },
      "source": [
        "pr=model.predict([11])\n",
        "pr"
      ],
      "execution_count": 9,
      "outputs": [
        {
          "output_type": "execute_result",
          "data": {
            "text/plain": [
              "array([[68.5465]], dtype=float32)"
            ]
          },
          "metadata": {
            "tags": []
          },
          "execution_count": 9
        }
      ]
    }
  ]
}